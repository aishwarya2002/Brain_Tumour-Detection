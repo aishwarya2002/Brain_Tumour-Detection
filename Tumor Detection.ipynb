{
 "cells": [
  {
   "cell_type": "code",
   "execution_count": 1,
   "metadata": {},
   "outputs": [],
   "source": [
    "from tensorflow import keras                                        \n",
    "from tensorflow.keras.models import Sequential                     \n",
    "from tensorflow.keras.layers import Dropout                         \n",
    "from tensorflow.keras.layers import Flatten                        \n",
    "from tensorflow.keras.layers import Dense                           \n",
    "from tensorflow.keras.layers import BatchNormalization              \n",
    "from tensorflow.keras.layers import Conv2D                          \n",
    "from tensorflow.keras.layers import MaxPool2D                       \n",
    "from tensorflow.keras.preprocessing.image import ImageDataGenerator \n",
    "from datetime import datetime                                       \n",
    "from tensorflow.keras.callbacks import ModelCheckpoint              "
   ]
  },
  {
   "cell_type": "code",
   "execution_count": 2,
   "metadata": {},
   "outputs": [],
   "source": [
    "model = Sequential() "
   ]
  },
  {
   "cell_type": "code",
   "execution_count": 3,
   "metadata": {},
   "outputs": [
    {
     "name": "stderr",
     "output_type": "stream",
     "text": [
      "Using TensorFlow backend.\n"
     ]
    },
    {
     "name": "stdout",
     "output_type": "stream",
     "text": [
      "channels_last\n",
      "(380, 380, 1)\n"
     ]
    }
   ],
   "source": [
    "from keras import backend as K \n",
    "if K.image_data_format()=='channels_first':\n",
    "    input_shapes = (1,380,380)\n",
    "else:\n",
    "    input_shapes = (380,380,1)\n",
    "    \n",
    "print(K.image_data_format())   \n",
    "print(input_shapes)"
   ]
  },
  {
   "cell_type": "code",
   "execution_count": 4,
   "metadata": {},
   "outputs": [],
   "source": [
    "model.add(Conv2D(8,(2,2),input_shape = input_shapes ,activation='relu')) \n",
    "model.add(BatchNormalization(axis=-1, center=True)) \n",
    "model.add(MaxPool2D(pool_size=(2, 2))) \n",
    "model.add(Dropout(rate=0.2))\n",
    "\n",
    "model.add(Conv2D(16,(2,2),activation='relu'))\n",
    "model.add(MaxPool2D(pool_size=(2, 2)))\n",
    "\n",
    "model.add(Conv2D(32,(2,2),activation='relu'))\n",
    "model.add(MaxPool2D(pool_size=(2, 2)))\n",
    "\n",
    "model.add(Conv2D(64,(2,2),activation='relu'))\n",
    "model.add(MaxPool2D(pool_size=(2, 2)))\n",
    "\n",
    "model.add(Conv2D(128,(2,2),activation='relu'))\n",
    "model.add(MaxPool2D(pool_size=(2, 2)))\n",
    "\n",
    "model.add(Conv2D(256,(2,2),activation='relu'))\n",
    "model.add(MaxPool2D(pool_size=(2, 2)))\n",
    "model.add(Dropout(rate=0.2))\n",
    "\n",
    "model.add(Flatten()) \n",
    "model.add(Dense(1024, activation = 'relu')) \n",
    "model.add(Dense(1, activation = 'sigmoid')) \n",
    "\n",
    "model.compile(optimizer = 'SGD', loss = 'binary_crossentropy', metrics = ['accuracy'])"
   ]
  },
  {
   "cell_type": "code",
   "execution_count": 5,
   "metadata": {},
   "outputs": [
    {
     "name": "stdout",
     "output_type": "stream",
     "text": [
      "Model: \"sequential\"\n",
      "_________________________________________________________________\n",
      "Layer (type)                 Output Shape              Param #   \n",
      "=================================================================\n",
      "conv2d (Conv2D)              (None, 379, 379, 8)       40        \n",
      "_________________________________________________________________\n",
      "batch_normalization (BatchNo (None, 379, 379, 8)       32        \n",
      "_________________________________________________________________\n",
      "max_pooling2d (MaxPooling2D) (None, 189, 189, 8)       0         \n",
      "_________________________________________________________________\n",
      "dropout (Dropout)            (None, 189, 189, 8)       0         \n",
      "_________________________________________________________________\n",
      "conv2d_1 (Conv2D)            (None, 188, 188, 16)      528       \n",
      "_________________________________________________________________\n",
      "max_pooling2d_1 (MaxPooling2 (None, 94, 94, 16)        0         \n",
      "_________________________________________________________________\n",
      "conv2d_2 (Conv2D)            (None, 93, 93, 32)        2080      \n",
      "_________________________________________________________________\n",
      "max_pooling2d_2 (MaxPooling2 (None, 46, 46, 32)        0         \n",
      "_________________________________________________________________\n",
      "conv2d_3 (Conv2D)            (None, 45, 45, 64)        8256      \n",
      "_________________________________________________________________\n",
      "max_pooling2d_3 (MaxPooling2 (None, 22, 22, 64)        0         \n",
      "_________________________________________________________________\n",
      "conv2d_4 (Conv2D)            (None, 21, 21, 128)       32896     \n",
      "_________________________________________________________________\n",
      "max_pooling2d_4 (MaxPooling2 (None, 10, 10, 128)       0         \n",
      "_________________________________________________________________\n",
      "conv2d_5 (Conv2D)            (None, 9, 9, 256)         131328    \n",
      "_________________________________________________________________\n",
      "max_pooling2d_5 (MaxPooling2 (None, 4, 4, 256)         0         \n",
      "_________________________________________________________________\n",
      "dropout_1 (Dropout)          (None, 4, 4, 256)         0         \n",
      "_________________________________________________________________\n",
      "flatten (Flatten)            (None, 4096)              0         \n",
      "_________________________________________________________________\n",
      "dense (Dense)                (None, 1024)              4195328   \n",
      "_________________________________________________________________\n",
      "dense_1 (Dense)              (None, 1)                 1025      \n",
      "=================================================================\n",
      "Total params: 4,371,513\n",
      "Trainable params: 4,371,497\n",
      "Non-trainable params: 16\n",
      "_________________________________________________________________\n"
     ]
    }
   ],
   "source": [
    "model.summary()"
   ]
  },
  {
   "cell_type": "code",
   "execution_count": 6,
   "metadata": {},
   "outputs": [],
   "source": [
    "callbacks=ModelCheckpoint('brain01aa.h5',\n",
    "                          monitor='val_accuracy',\n",
    "                          verbose=1,\n",
    "                          save_best_only=True,\n",
    "                          save_weights_only=False,\n",
    "                          mode='auto')"
   ]
  },
  {
   "cell_type": "code",
   "execution_count": 7,
   "metadata": {},
   "outputs": [
    {
     "name": "stdout",
     "output_type": "stream",
     "text": [
      "Found 1519 images belonging to 2 classes.\n",
      "Found 320 images belonging to 2 classes.\n"
     ]
    }
   ],
   "source": [
    "train_datagen=ImageDataGenerator(rescale=1./255)\n",
    "val_datagen=ImageDataGenerator(rescale=1./255)\n",
    "\n",
    "training_set = train_datagen.flow_from_directory('C:/Users/User1/Desktop/BT_Detection/train',\n",
    "                                                   target_size = (380, 380),\n",
    "                                                   batch_size = 32,\n",
    "                                                   color_mode='grayscale',\n",
    "                                                   class_mode = 'binary')\n",
    "\n",
    "val_set = val_datagen.flow_from_directory('C:/Users/User1/Desktop/BT_Detection/val',\n",
    "                                            target_size = (380, 380),\n",
    "                                            batch_size = 32,\n",
    "                                            color_mode='grayscale',\n",
    "                                            class_mode = 'binary')"
   ]
  },
  {
   "cell_type": "code",
   "execution_count": 25,
   "metadata": {},
   "outputs": [
    {
     "name": "stdout",
     "output_type": "stream",
     "text": [
      "start time 19 : 0 : 51\n",
      "Train for 48 steps, validate for 10 steps\n",
      "Epoch 1/50\n",
      "WARNING:tensorflow:Entity <function Function._initialize_uninitialized_variables.<locals>.initialize_variables at 0x00000142D19A6828> could not be transformed and will be executed as-is. Please report this to the AutoGraph team. When filing the bug, set the verbosity to 10 (on Linux, `export AUTOGRAPH_VERBOSITY=10`) and attach the full output. Cause: module 'gast' has no attribute 'Num'\n",
      "WARNING: Entity <function Function._initialize_uninitialized_variables.<locals>.initialize_variables at 0x00000142D19A6828> could not be transformed and will be executed as-is. Please report this to the AutoGraph team. When filing the bug, set the verbosity to 10 (on Linux, `export AUTOGRAPH_VERBOSITY=10`) and attach the full output. Cause: module 'gast' has no attribute 'Num'\n",
      "47/48 [============================>.] - ETA: 5s - loss: 0.6885 - accuracy: 0.5319 \n",
      "Epoch 00001: val_accuracy improved from -inf to 0.57187, saving model to brain01aa.h5\n",
      "48/48 [==============================] - 262s 5s/step - loss: 0.6885 - accuracy: 0.5332 - val_loss: 0.6902 - val_accuracy: 0.5719\n",
      "Epoch 2/50\n",
      "47/48 [============================>.] - ETA: 4s - loss: 0.6565 - accuracy: 0.6516\n",
      "Epoch 00002: val_accuracy did not improve from 0.57187\n",
      "48/48 [==============================] - 214s 4s/step - loss: 0.6563 - accuracy: 0.6511 - val_loss: 0.6856 - val_accuracy: 0.5656\n",
      "Epoch 3/50\n",
      "47/48 [============================>.] - ETA: 4s - loss: 0.6280 - accuracy: 0.6658\n",
      "Epoch 00003: val_accuracy improved from 0.57187 to 0.64062, saving model to brain01aa.h5\n",
      "48/48 [==============================] - 200s 4s/step - loss: 0.6284 - accuracy: 0.6662 - val_loss: 0.6741 - val_accuracy: 0.6406\n",
      "Epoch 4/50\n",
      "47/48 [============================>.] - ETA: 4s - loss: 0.6061 - accuracy: 0.6779\n",
      "Epoch 00004: val_accuracy improved from 0.64062 to 0.64375, saving model to brain01aa.h5\n",
      "48/48 [==============================] - 202s 4s/step - loss: 0.6054 - accuracy: 0.6787 - val_loss: 0.6597 - val_accuracy: 0.6438\n",
      "Epoch 5/50\n",
      "47/48 [============================>.] - ETA: 4s - loss: 0.5808 - accuracy: 0.6893\n",
      "Epoch 00005: val_accuracy improved from 0.64375 to 0.65312, saving model to brain01aa.h5\n",
      "48/48 [==============================] - 202s 4s/step - loss: 0.5806 - accuracy: 0.6912 - val_loss: 0.6451 - val_accuracy: 0.6531\n",
      "Epoch 6/50\n",
      "47/48 [============================>.] - ETA: 4s - loss: 0.5650 - accuracy: 0.7169\n",
      "Epoch 00006: val_accuracy improved from 0.65312 to 0.70000, saving model to brain01aa.h5\n",
      "48/48 [==============================] - 203s 4s/step - loss: 0.5630 - accuracy: 0.7182 - val_loss: 0.6256 - val_accuracy: 0.7000\n",
      "Epoch 7/50\n",
      "47/48 [============================>.] - ETA: 3s - loss: 0.5506 - accuracy: 0.7155\n",
      "Epoch 00007: val_accuracy did not improve from 0.70000\n",
      "48/48 [==============================] - 200s 4s/step - loss: 0.5500 - accuracy: 0.7169 - val_loss: 0.6063 - val_accuracy: 0.7000\n",
      "Epoch 8/50\n",
      "47/48 [============================>.] - ETA: 3s - loss: 0.5281 - accuracy: 0.7445\n",
      "Epoch 00008: val_accuracy improved from 0.70000 to 0.72500, saving model to brain01aa.h5\n",
      "48/48 [==============================] - 200s 4s/step - loss: 0.5259 - accuracy: 0.7479 - val_loss: 0.5837 - val_accuracy: 0.7250\n",
      "Epoch 9/50\n",
      "47/48 [============================>.] - ETA: 4s - loss: 0.5083 - accuracy: 0.7552\n",
      "Epoch 00009: val_accuracy improved from 0.72500 to 0.73750, saving model to brain01aa.h5\n",
      "48/48 [==============================] - 201s 4s/step - loss: 0.5106 - accuracy: 0.7531 - val_loss: 0.5588 - val_accuracy: 0.7375\n",
      "Epoch 10/50\n",
      "47/48 [============================>.] - ETA: 3s - loss: 0.4941 - accuracy: 0.7599\n",
      "Epoch 00010: val_accuracy did not improve from 0.73750\n",
      "48/48 [==============================] - 199s 4s/step - loss: 0.4964 - accuracy: 0.7591 - val_loss: 0.5482 - val_accuracy: 0.7250\n",
      "Epoch 11/50\n",
      "47/48 [============================>.] - ETA: 4s - loss: 0.4797 - accuracy: 0.7727\n",
      "Epoch 00011: val_accuracy improved from 0.73750 to 0.77812, saving model to brain01aa.h5\n",
      "48/48 [==============================] - 200s 4s/step - loss: 0.4808 - accuracy: 0.7716 - val_loss: 0.5082 - val_accuracy: 0.7781\n",
      "Epoch 12/50\n",
      "47/48 [============================>.] - ETA: 3s - loss: 0.4372 - accuracy: 0.8063\n",
      "Epoch 00012: val_accuracy did not improve from 0.77812\n",
      "48/48 [==============================] - 200s 4s/step - loss: 0.4354 - accuracy: 0.8084 - val_loss: 0.4990 - val_accuracy: 0.7437\n",
      "Epoch 13/50\n",
      "47/48 [============================>.] - ETA: 4s - loss: 0.4129 - accuracy: 0.8231\n",
      "Epoch 00013: val_accuracy improved from 0.77812 to 0.80000, saving model to brain01aa.h5\n",
      "48/48 [==============================] - 204s 4s/step - loss: 0.4118 - accuracy: 0.8242 - val_loss: 0.4602 - val_accuracy: 0.8000\n",
      "Epoch 14/50\n",
      "47/48 [============================>.] - ETA: 4s - loss: 0.4099 - accuracy: 0.8359\n",
      "Epoch 00014: val_accuracy did not improve from 0.80000\n",
      "48/48 [==============================] - 213s 4s/step - loss: 0.4097 - accuracy: 0.8348 - val_loss: 0.5087 - val_accuracy: 0.7281\n",
      "Epoch 15/50\n",
      "47/48 [============================>.] - ETA: 4s - loss: 0.3558 - accuracy: 0.8487\n",
      "Epoch 00015: val_accuracy did not improve from 0.80000\n",
      "48/48 [==============================] - 204s 4s/step - loss: 0.3525 - accuracy: 0.8506 - val_loss: 0.4930 - val_accuracy: 0.7500\n",
      "Epoch 16/50\n",
      "47/48 [============================>.] - ETA: 4s - loss: 0.3295 - accuracy: 0.8655\n",
      "Epoch 00016: val_accuracy did not improve from 0.80000\n",
      "48/48 [==============================] - 201s 4s/step - loss: 0.3314 - accuracy: 0.8644 - val_loss: 0.6206 - val_accuracy: 0.7000\n",
      "Epoch 17/50\n",
      "47/48 [============================>.] - ETA: 4s - loss: 0.3282 - accuracy: 0.8588\n",
      "Epoch 00017: val_accuracy did not improve from 0.80000\n",
      "48/48 [==============================] - 205s 4s/step - loss: 0.3303 - accuracy: 0.8565 - val_loss: 0.6150 - val_accuracy: 0.7031\n",
      "Epoch 18/50\n",
      "47/48 [============================>.] - ETA: 4s - loss: 0.2862 - accuracy: 0.8816\n",
      "Epoch 00018: val_accuracy improved from 0.80000 to 0.82187, saving model to brain01aa.h5\n",
      "48/48 [==============================] - 210s 4s/step - loss: 0.2876 - accuracy: 0.8795 - val_loss: 0.3807 - val_accuracy: 0.8219\n",
      "Epoch 19/50\n",
      "47/48 [============================>.] - ETA: 4s - loss: 0.2800 - accuracy: 0.8924\n",
      "Epoch 00019: val_accuracy did not improve from 0.82187\n",
      "48/48 [==============================] - 201s 4s/step - loss: 0.2807 - accuracy: 0.8914 - val_loss: 0.5472 - val_accuracy: 0.7437\n",
      "Epoch 20/50\n",
      "47/48 [============================>.] - ETA: 4s - loss: 0.2435 - accuracy: 0.8964\n",
      "Epoch 00020: val_accuracy improved from 0.82187 to 0.83750, saving model to brain01aa.h5\n",
      "48/48 [==============================] - 210s 4s/step - loss: 0.2418 - accuracy: 0.8980 - val_loss: 0.3809 - val_accuracy: 0.8375\n",
      "Epoch 21/50\n",
      "47/48 [============================>.] - ETA: 4s - loss: 0.2444 - accuracy: 0.9045\n",
      "Epoch 00021: val_accuracy improved from 0.83750 to 0.86875, saving model to brain01aa.h5\n",
      "48/48 [==============================] - 206s 4s/step - loss: 0.2455 - accuracy: 0.9032 - val_loss: 0.3302 - val_accuracy: 0.8687\n",
      "Epoch 22/50\n",
      "47/48 [============================>.] - ETA: 4s - loss: 0.2179 - accuracy: 0.9146\n",
      "Epoch 00022: val_accuracy improved from 0.86875 to 0.88750, saving model to brain01aa.h5\n",
      "48/48 [==============================] - 206s 4s/step - loss: 0.2178 - accuracy: 0.9151 - val_loss: 0.2702 - val_accuracy: 0.8875\n",
      "Epoch 23/50\n",
      "47/48 [============================>.] - ETA: 4s - loss: 0.2011 - accuracy: 0.9260\n",
      "Epoch 00023: val_accuracy did not improve from 0.88750\n",
      "48/48 [==============================] - 213s 4s/step - loss: 0.2003 - accuracy: 0.9269 - val_loss: 0.2852 - val_accuracy: 0.8750\n",
      "Epoch 24/50\n",
      "47/48 [============================>.] - ETA: 4s - loss: 0.1833 - accuracy: 0.9301\n",
      "Epoch 00024: val_accuracy improved from 0.88750 to 0.89688, saving model to brain01aa.h5\n",
      "48/48 [==============================] - 206s 4s/step - loss: 0.1856 - accuracy: 0.9296 - val_loss: 0.2544 - val_accuracy: 0.8969\n",
      "Epoch 25/50\n",
      "47/48 [============================>.] - ETA: 4s - loss: 0.1641 - accuracy: 0.9415\n",
      "Epoch 00025: val_accuracy did not improve from 0.89688\n",
      "48/48 [==============================] - 204s 4s/step - loss: 0.1634 - accuracy: 0.9408 - val_loss: 0.2436 - val_accuracy: 0.8969\n"
     ]
    },
    {
     "name": "stdout",
     "output_type": "stream",
     "text": [
      "Epoch 26/50\n",
      "47/48 [============================>.] - ETA: 4s - loss: 0.1524 - accuracy: 0.9469\n",
      "Epoch 00026: val_accuracy did not improve from 0.89688\n",
      "48/48 [==============================] - 204s 4s/step - loss: 0.1529 - accuracy: 0.9460 - val_loss: 0.2285 - val_accuracy: 0.8906\n",
      "Epoch 27/50\n",
      "47/48 [============================>.] - ETA: 4s - loss: 0.1614 - accuracy: 0.9435\n",
      "Epoch 00027: val_accuracy improved from 0.89688 to 0.90625, saving model to brain01aa.h5\n",
      "48/48 [==============================] - 207s 4s/step - loss: 0.1605 - accuracy: 0.9440 - val_loss: 0.2306 - val_accuracy: 0.9062\n",
      "Epoch 28/50\n",
      "47/48 [============================>.] - ETA: 4s - loss: 0.1319 - accuracy: 0.9496\n",
      "Epoch 00028: val_accuracy improved from 0.90625 to 0.91875, saving model to brain01aa.h5\n",
      "48/48 [==============================] - 210s 4s/step - loss: 0.1301 - accuracy: 0.9506 - val_loss: 0.2193 - val_accuracy: 0.9187\n",
      "Epoch 29/50\n",
      "47/48 [============================>.] - ETA: 4s - loss: 0.1032 - accuracy: 0.9704\n",
      "Epoch 00029: val_accuracy did not improve from 0.91875\n",
      "48/48 [==============================] - 203s 4s/step - loss: 0.1032 - accuracy: 0.9697 - val_loss: 0.2279 - val_accuracy: 0.9125\n",
      "Epoch 30/50\n",
      "47/48 [============================>.] - ETA: 4s - loss: 0.1093 - accuracy: 0.9597\n",
      "Epoch 00030: val_accuracy did not improve from 0.91875\n",
      "48/48 [==============================] - 209s 4s/step - loss: 0.1080 - accuracy: 0.9605 - val_loss: 0.2767 - val_accuracy: 0.8687\n",
      "Epoch 31/50\n",
      "47/48 [============================>.] - ETA: 4s - loss: 0.1093 - accuracy: 0.9583\n",
      "Epoch 00031: val_accuracy did not improve from 0.91875\n",
      "48/48 [==============================] - 218s 5s/step - loss: 0.1086 - accuracy: 0.9585 - val_loss: 0.2527 - val_accuracy: 0.9000\n",
      "Epoch 32/50\n",
      "47/48 [============================>.] - ETA: 4s - loss: 0.0828 - accuracy: 0.9711\n",
      "Epoch 00032: val_accuracy improved from 0.91875 to 0.92188, saving model to brain01aa.h5\n",
      "48/48 [==============================] - 220s 5s/step - loss: 0.0821 - accuracy: 0.9710 - val_loss: 0.1907 - val_accuracy: 0.9219\n",
      "Epoch 33/50\n",
      "47/48 [============================>.] - ETA: 4s - loss: 0.0665 - accuracy: 0.9805\n",
      "Epoch 00033: val_accuracy did not improve from 0.92188\n",
      "48/48 [==============================] - 206s 4s/step - loss: 0.0657 - accuracy: 0.9809 - val_loss: 0.2005 - val_accuracy: 0.9187\n",
      "Epoch 34/50\n",
      "47/48 [============================>.] - ETA: 4s - loss: 0.0611 - accuracy: 0.9805\n",
      "Epoch 00034: val_accuracy did not improve from 0.92188\n",
      "48/48 [==============================] - 207s 4s/step - loss: 0.0610 - accuracy: 0.9809 - val_loss: 0.1952 - val_accuracy: 0.9219\n",
      "Epoch 35/50\n",
      "47/48 [============================>.] - ETA: 4s - loss: 0.0798 - accuracy: 0.9691\n",
      "Epoch 00035: val_accuracy did not improve from 0.92188\n",
      "48/48 [==============================] - 213s 4s/step - loss: 0.0785 - accuracy: 0.9697 - val_loss: 0.2395 - val_accuracy: 0.9125\n",
      "Epoch 36/50\n",
      "47/48 [============================>.] - ETA: 4s - loss: 0.0878 - accuracy: 0.9714\n",
      "Epoch 00036: val_accuracy improved from 0.92188 to 0.92500, saving model to brain01aa.h5\n",
      "48/48 [==============================] - 210s 4s/step - loss: 0.0873 - accuracy: 0.9717 - val_loss: 0.2135 - val_accuracy: 0.9250\n",
      "Epoch 37/50\n",
      "47/48 [============================>.] - ETA: 4s - loss: 0.0510 - accuracy: 0.9825\n",
      "Epoch 00037: val_accuracy did not improve from 0.92500\n",
      "48/48 [==============================] - 211s 4s/step - loss: 0.0519 - accuracy: 0.9816 - val_loss: 0.2407 - val_accuracy: 0.9187\n",
      "Epoch 38/50\n",
      "47/48 [============================>.] - ETA: 4s - loss: 0.0632 - accuracy: 0.9812\n",
      "Epoch 00038: val_accuracy did not improve from 0.92500\n",
      "48/48 [==============================] - 209s 4s/step - loss: 0.0639 - accuracy: 0.9803 - val_loss: 0.2820 - val_accuracy: 0.8906\n",
      "Epoch 39/50\n",
      "47/48 [============================>.] - ETA: 4s - loss: 0.0532 - accuracy: 0.9792\n",
      "Epoch 00039: val_accuracy did not improve from 0.92500\n",
      "48/48 [==============================] - 209s 4s/step - loss: 0.0530 - accuracy: 0.9796 - val_loss: 0.3207 - val_accuracy: 0.8844\n",
      "Epoch 40/50\n",
      "47/48 [============================>.] - ETA: 4s - loss: 0.0391 - accuracy: 0.9899\n",
      "Epoch 00040: val_accuracy improved from 0.92500 to 0.92813, saving model to brain01aa.h5\n",
      "48/48 [==============================] - 211s 4s/step - loss: 0.0388 - accuracy: 0.9901 - val_loss: 0.2115 - val_accuracy: 0.9281\n",
      "Epoch 41/50\n",
      "47/48 [============================>.] - ETA: 4s - loss: 0.0324 - accuracy: 0.9933\n",
      "Epoch 00041: val_accuracy did not improve from 0.92813\n",
      "48/48 [==============================] - 216s 4s/step - loss: 0.0321 - accuracy: 0.9934 - val_loss: 0.2056 - val_accuracy: 0.9125\n",
      "Epoch 42/50\n",
      "47/48 [============================>.] - ETA: 4s - loss: 0.0220 - accuracy: 0.9960\n",
      "Epoch 00042: val_accuracy improved from 0.92813 to 0.93125, saving model to brain01aa.h5\n",
      "48/48 [==============================] - 207s 4s/step - loss: 0.0217 - accuracy: 0.9961 - val_loss: 0.1900 - val_accuracy: 0.9312\n",
      "Epoch 43/50\n",
      "47/48 [============================>.] - ETA: 4s - loss: 0.0718 - accuracy: 0.9691\n",
      "Epoch 00043: val_accuracy improved from 0.93125 to 0.93437, saving model to brain01aa.h5\n",
      "48/48 [==============================] - 209s 4s/step - loss: 0.0710 - accuracy: 0.9697 - val_loss: 0.1900 - val_accuracy: 0.9344\n",
      "Epoch 44/50\n",
      "47/48 [============================>.] - ETA: 4s - loss: 0.0333 - accuracy: 0.9913\n",
      "Epoch 00044: val_accuracy did not improve from 0.93437\n",
      "48/48 [==============================] - 212s 4s/step - loss: 0.0335 - accuracy: 0.9908 - val_loss: 0.2406 - val_accuracy: 0.9094\n",
      "Epoch 45/50\n",
      "47/48 [============================>.] - ETA: 4s - loss: 0.0265 - accuracy: 0.9906\n",
      "Epoch 00045: val_accuracy improved from 0.93437 to 0.94687, saving model to brain01aa.h5\n",
      "48/48 [==============================] - 213s 4s/step - loss: 0.0263 - accuracy: 0.9908 - val_loss: 0.1769 - val_accuracy: 0.9469\n",
      "Epoch 46/50\n",
      "47/48 [============================>.] - ETA: 4s - loss: 0.0228 - accuracy: 0.9926\n",
      "Epoch 00046: val_accuracy improved from 0.94687 to 0.95000, saving model to brain01aa.h5\n",
      "48/48 [==============================] - 216s 4s/step - loss: 0.0240 - accuracy: 0.9921 - val_loss: 0.1732 - val_accuracy: 0.9500\n",
      "Epoch 47/50\n",
      "47/48 [============================>.] - ETA: 4s - loss: 0.0192 - accuracy: 0.9939\n",
      "Epoch 00047: val_accuracy did not improve from 0.95000\n",
      "48/48 [==============================] - 202s 4s/step - loss: 0.0193 - accuracy: 0.9941 - val_loss: 0.1880 - val_accuracy: 0.9500\n",
      "Epoch 48/50\n",
      "47/48 [============================>.] - ETA: 4s - loss: 0.0233 - accuracy: 0.9939\n",
      "Epoch 00048: val_accuracy did not improve from 0.95000\n",
      "48/48 [==============================] - 200s 4s/step - loss: 0.0233 - accuracy: 0.9941 - val_loss: 0.1862 - val_accuracy: 0.9438\n",
      "Epoch 49/50\n",
      "47/48 [============================>.] - ETA: 4s - loss: 0.0104 - accuracy: 0.9993\n",
      "Epoch 00049: val_accuracy did not improve from 0.95000\n",
      "48/48 [==============================] - 203s 4s/step - loss: 0.0109 - accuracy: 0.9993 - val_loss: 0.2171 - val_accuracy: 0.9375\n",
      "Epoch 50/50\n",
      "47/48 [============================>.] - ETA: 4s - loss: 0.0166 - accuracy: 0.9960\n",
      "Epoch 00050: val_accuracy did not improve from 0.95000\n",
      "48/48 [==============================] - 200s 4s/step - loss: 0.0165 - accuracy: 0.9961 - val_loss: 0.1910 - val_accuracy: 0.9469\n",
      "end time 21 : 55 : 10\n"
     ]
    }
   ],
   "source": [
    "time=datetime.now()\n",
    "print('start time',time.hour,':',time.minute,':',time.second)\n",
    "\n",
    "history=model.fit(x=training_set,epochs=50,validation_data=val_set, callbacks=[callbacks]) \n",
    "\n",
    "time=datetime.now()\n",
    "print('end time',time.hour,':',time.minute,':',time.second)"
   ]
  },
  {
   "cell_type": "code",
   "execution_count": 26,
   "metadata": {},
   "outputs": [
    {
     "data": {
      "image/png": "[encoded data removed]",
      "text/plain": [
       "<Figure size 432x288 with 1 Axes>"
      ]
     },
     "metadata": {
      "needs_background": "light"
     },
     "output_type": "display_data"
    },
    {
     "data": {
      "image/png": "[encoded data removed]",
      "text/plain": [
       "<Figure size 432x288 with 1 Axes>"
      ]
     },
     "metadata": {
      "needs_background": "light"
     },
     "output_type": "display_data"
    }
   ],
   "source": [
    "import matplotlib.pyplot as plt\n",
    "\n",
    "plt.plot(history.history['accuracy'])\n",
    "plt.plot(history.history['val_accuracy'])\n",
    "plt.title('Model accuracy')\n",
    "plt.ylabel('Accuracy')\n",
    "plt.xlabel('Epoch')\n",
    "plt.legend(['Train', 'Val'], loc='upper left')\n",
    "plt.show()\n",
    "\n",
    "\n",
    "plt.plot(history.history['loss'])\n",
    "plt.plot(history.history['val_loss'])\n",
    "plt.title('Model loss')\n",
    "plt.ylabel('Loss')\n",
    "plt.xlabel('Epoch')\n",
    "plt.legend(['Train', 'Val'], loc='upper left')\n",
    "plt.show()"
   ]
  },
  {
   "cell_type": "code",
   "execution_count": null,
   "metadata": {},
   "outputs": [],
   "source": []
  },
  {
   "cell_type": "code",
   "execution_count": 7,
   "metadata": {},
   "outputs": [],
   "source": [
    "from PIL import Image\n",
    "import numpy as np      \n",
    "from skimage import transform\n",
    "from tensorflow.keras.models import load_model\n",
    "import cv2\n",
    "import matplotlib.pyplot as plt\n",
    "import os\n",
    "from os.path import join\n",
    "from os import listdir"
   ]
  },
  {
   "cell_type": "code",
   "execution_count": 4,
   "metadata": {},
   "outputs": [
    {
     "name": "stdout",
     "output_type": "stream",
     "text": [
      "WARNING:tensorflow:From C:\\Users\\User1\\AppData\\Roaming\\Python\\Python37\\site-packages\\tensorflow_core\\python\\ops\\math_grad.py:1424: where (from tensorflow.python.ops.array_ops) is deprecated and will be removed in a future version.\n",
      "Instructions for updating:\n",
      "Use tf.where in 2.0, which has the same broadcast rule as np.where\n"
     ]
    }
   ],
   "source": [
    "model = load_model('brain01aa.h5')"
   ]
  },
  {
   "cell_type": "code",
   "execution_count": 5,
   "metadata": {},
   "outputs": [],
   "source": [
    "import imutils\n",
    "from PIL import ImageEnhance\n",
    "import imageio\n",
    "\n",
    "def background_cropping(image, plot=False):\n",
    "    thresh = cv2.threshold(image, 45, 255, cv2.THRESH_BINARY)[1]\n",
    "    thresh = cv2.erode(thresh, None, iterations=2)\n",
    "    thresh = cv2.dilate(thresh, None, iterations=2)\n",
    "   \n",
    "    cnts = cv2.findContours(thresh.copy(), cv2.RETR_EXTERNAL, cv2.CHAIN_APPROX_SIMPLE) \n",
    "    cnts = imutils.grab_contours(cnts)\n",
    "    c = max(cnts, key=cv2.contourArea)\n",
    "    \n",
    "    extLeft = tuple(c[c[:, :, 0].argmin()][0])\n",
    "    extRight = tuple(c[c[:, :, 0].argmax()][0])\n",
    "    extTop = tuple(c[c[:, :, 1].argmin()][0])\n",
    "    extBot = tuple(c[c[:, :, 1].argmax()][0])\n",
    "   \n",
    "    new_image = image[extTop[1]:extBot[1], extLeft[0]:extRight[0]]            \n",
    "    return new_image\n",
    "\n",
    "def load(filename):\n",
    "    img0 = cv2.imread(filename, cv2.IMREAD_GRAYSCALE)  \n",
    "    cv2.namedWindow('Original Test Image',cv2.WINDOW_NORMAL)\n",
    "    cv2.resizeWindow('Original Test Image',380,380)\n",
    "    cv2.imshow('Original Test Image', img0)\n",
    "    cv2.waitKey(0)\n",
    "    cv2.destroyAllWindows()\n",
    "    \n",
    "    img1 = Image.open(filename).convert('L')  \n",
    "    img2 = img1.resize((380, 380), Image.ANTIALIAS)\n",
    "    img2.save(\"resized.jpg\")\n",
    "    img3 = cv2.imread(\"resized.jpg\", cv2.IMREAD_GRAYSCALE)\n",
    "    cv2.imshow('Resized/Grayscale', img3)\n",
    "    cv2.waitKey(0)\n",
    "    cv2.destroyAllWindows()\n",
    "\n",
    "    img4 = cv2.imread(\"resized.jpg\", cv2.IMREAD_GRAYSCALE)\n",
    "    figure_size = 9  \n",
    "    new_image_gauss = cv2.GaussianBlur(img4, (figure_size, figure_size), 0)\n",
    "    img5 = Image.fromarray(new_image_gauss)\n",
    "    img5.save(\"filter.jpg\")\n",
    "    cv2.imshow('Gaussian Filter', new_image_gauss)\n",
    "    cv2.waitKey(0)\n",
    "    cv2.destroyAllWindows()\n",
    "\n",
    "    img6 = cv2.imread(\"filter.jpg\", cv2.IMREAD_GRAYSCALE)\n",
    "    crop_img = background_cropping(img6, True)\n",
    "    resize_img = cv2.resize(crop_img, (380, 380))\n",
    "    img7 = Image.fromarray(resize_img)\n",
    "    img7.save(\"cropped.jpg\")\n",
    "    cv2.imshow('Cropped', resize_img)\n",
    "    cv2.waitKey(0)\n",
    "    cv2.destroyAllWindows()\n",
    "    \n",
    "    img8 = Image.open(\"cropped.jpg\")\n",
    "    enh_bri = ImageEnhance.Brightness(img8)\n",
    "    brightness = 1.3\n",
    "    image_brightened = enh_bri.enhance(brightness)\n",
    "    enh_col = ImageEnhance.Color(image_brightened)\n",
    "    color = 1.5\n",
    "    image_colored = enh_col.enhance(color)\n",
    "    enh_con = ImageEnhance.Contrast(image_colored)\n",
    "    contrast = 1.3\n",
    "    image_contrasted = enh_con.enhance(contrast)\n",
    "    enh_sha = ImageEnhance.Sharpness(image_contrasted)\n",
    "    sharpness = 3.0\n",
    "    image_sharped = enh_sha.enhance(sharpness)\n",
    "    image_sharped.save(\"enhanced1.jpg\")\n",
    "    img9 = cv2.imread(\"enhanced1.jpg\", cv2.IMREAD_GRAYSCALE)\n",
    "    cv2.imshow('Enhanced-1', img9)\n",
    "    cv2.waitKey(0)\n",
    "    cv2.destroyAllWindows()\n",
    "    \n",
    "    img10 = imageio.imread(\"enhanced1.jpg\")\n",
    "    img10 = img10 / 255.0\n",
    "    im_power_law_transformation = cv2.pow(img10, 1.5)\n",
    "    img11 = Image.fromarray(np.uint8(im_power_law_transformation * 255))\n",
    "    img12 = img11.convert(\"L\")\n",
    "    img12.save(\"enhanced2.jpg\")\n",
    "    img13 = cv2.imread(\"enhanced2.jpg\", cv2.IMREAD_GRAYSCALE)\n",
    "    cv2.imshow('Enhanced-2', img13)\n",
    "    cv2.waitKey(0)\n",
    "    cv2.destroyAllWindows()\n",
    "    \n",
    "    np_image = Image.open(\"enhanced2.jpg\")\n",
    "    np_image = np.array(np_image).astype('float32') / 255\n",
    "    np_image = transform.resize(np_image, (380, 380, 1))\n",
    "    np_image = np.expand_dims(np_image, axis=0)\n",
    "    return np_image"
   ]
  },
  {
   "cell_type": "code",
   "execution_count": 14,
   "metadata": {},
   "outputs": [
    {
     "name": "stdout",
     "output_type": "stream",
     "text": [
      "NO TUMOR!!\n"
     ]
    },
    {
     "data": {
      "text/plain": [
       "0.00017724755161907524"
      ]
     },
     "execution_count": 14,
     "metadata": {},
     "output_type": "execute_result"
    }
   ],
   "source": [
    "image = load('C:/Users/User1/Desktop/BT_Detection/test/no/116.jpg')  \n",
    "pred=model.predict(image)\n",
    "if pred.item()>0.5:\n",
    "    print('TUMOR!!')\n",
    "else:\n",
    "    print('NO TUMOR!!')\n",
    "    \n",
    "pred.item()"
   ]
  },
  {
   "cell_type": "code",
   "execution_count": 15,
   "metadata": {},
   "outputs": [
    {
     "name": "stdout",
     "output_type": "stream",
     "text": [
      "TUMOR!!\n"
     ]
    },
    {
     "data": {
      "text/plain": [
       "0.999728262424469"
      ]
     },
     "execution_count": 15,
     "metadata": {},
     "output_type": "execute_result"
    }
   ],
   "source": [
    "image = load('C:/Users/User1/Desktop/BT_Detection/test/yes/62.jpg')  \n",
    "pred=model.predict(image)\n",
    "if pred.item()>0.5:\n",
    "    print('TUMOR!!')\n",
    "else:\n",
    "    print('NO TUMOR!!')\n",
    "    \n",
    "pred.item()"
   ]
  },
  {
   "cell_type": "code",
   "execution_count": null,
   "metadata": {},
   "outputs": [],
   "source": []
  },
  {
   "cell_type": "code",
   "execution_count": 11,
   "metadata": {},
   "outputs": [],
   "source": [
    "image_dir='C:/Users/User1/Desktop/BT_Detection/test/yes'\n",
    "tumor=0\n",
    "for root,dirs,files in os.walk(image_dir):\n",
    "    for file in files:\n",
    "        if file.endswith('jpg') or file.endswith('png'):\n",
    "            path=os.path.join(root,file)\n",
    "            image = load(path)\n",
    "            pred=model.predict(image)\n",
    "            if pred.item()>0.5:\n",
    "                  tumor=tumor+1  \n",
    "                \n",
    "total1=len(listdir(image_dir))            "
   ]
  },
  {
   "cell_type": "code",
   "execution_count": 12,
   "metadata": {},
   "outputs": [],
   "source": [
    "image_dir='C:/Users/User1/Desktop/BT_Detection/test/no'\n",
    "non_tumor=0\n",
    "for root,dirs,files in os.walk(image_dir):\n",
    "    for file in files:\n",
    "        if file.endswith('jpg') or file.endswith('png'):\n",
    "            path=os.path.join(root,file)\n",
    "            image = load(path)\n",
    "            pred=model.predict(image)\n",
    "            if pred.item()<0.5:\n",
    "                non_tumor=non_tumor+1\n",
    "                \n",
    "total2=len(listdir(image_dir))"
   ]
  },
  {
   "cell_type": "code",
   "execution_count": 13,
   "metadata": {},
   "outputs": [
    {
     "name": "stdout",
     "output_type": "stream",
     "text": [
      "Total test images= 320\n",
      "Correctly detected images= 315\n",
      "Accuracy= 98.4375\n"
     ]
    }
   ],
   "source": [
    "total=total1+total2\n",
    "correct=tumor+non_tumor\n",
    "perc=(correct*100)/total\n",
    "print(\"Total test images=\",total)\n",
    "print(\"Correctly detected images=\",correct)\n",
    "print(\"Accuracy=\",perc)"
   ]
  }
 ],
 "metadata": {
  "kernelspec": {
   "display_name": "Python 3",
   "language": "python",
   "name": "python3"
  },
  "language_info": {
   "codemirror_mode": {
    "name": "ipython",
    "version": 3
   },
   "file_extension": ".py",
   "mimetype": "text/x-python",
   "name": "python",
   "nbconvert_exporter": "python",
   "pygments_lexer": "ipython3",
   "version": "3.7.4"
  }
 },
 "nbformat": 4,
 "nbformat_minor": 2
}
